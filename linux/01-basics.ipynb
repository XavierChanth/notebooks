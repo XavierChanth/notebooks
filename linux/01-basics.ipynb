{
 "cells": [
  {
   "cell_type": "markdown",
   "metadata": {},
   "source": [
    "# 01 Basics\n",
    "\n",
    "This module covers basic Linux commands, and also briefly discusses:\n",
    "\n",
    "- The Linux filesystem\n",
    "- Shell environment variables\n",
    "- Text streams\n",
    "\n",
    "## echo\n",
    "\n",
    "Prints its input to stdout, followed by a new line:"
   ]
  },
  {
   "cell_type": "code",
   "execution_count": 25,
   "metadata": {
    "vscode": {
     "languageId": "shellscript"
    }
   },
   "outputs": [
    {
     "name": "stdout",
     "output_type": "stream",
     "text": [
      "hello\n"
     ]
    }
   ],
   "source": [
    "!echo hello"
   ]
  },
  {
   "cell_type": "markdown",
   "metadata": {},
   "source": [
    "> We are using the \"!\" in front of commands to indicate to the python notebook that we want to run shell commands, this is not needed in a normal shell.\n",
    "\n",
    "## ls\n",
    "\n",
    "List a directory's contents:"
   ]
  },
  {
   "cell_type": "code",
   "execution_count": 26,
   "metadata": {
    "vscode": {
     "languageId": "shellscript"
    }
   },
   "outputs": [
    {
     "name": "stdout",
     "output_type": "stream",
     "text": [
      "01-basics.ipynb\n"
     ]
    }
   ],
   "source": [
    "!ls"
   ]
  },
  {
   "cell_type": "markdown",
   "metadata": {},
   "source": [
    "Some useful flags are -l and -a.\n",
    "\n",
    "-l - lists more detail"
   ]
  },
  {
   "cell_type": "code",
   "execution_count": 27,
   "metadata": {
    "vscode": {
     "languageId": "shellscript"
    }
   },
   "outputs": [
    {
     "name": "stdout",
     "output_type": "stream",
     "text": [
      "total 16\n",
      "-rw-r--r--  1 chant  staff  6196 29 Sep 21:43 01-basics.ipynb\n"
     ]
    }
   ],
   "source": [
    "!ls -l"
   ]
  },
  {
   "cell_type": "markdown",
   "metadata": {},
   "source": [
    "-a - shows all files (including hidden ones)"
   ]
  },
  {
   "cell_type": "code",
   "execution_count": 28,
   "metadata": {
    "vscode": {
     "languageId": "shellscript"
    }
   },
   "outputs": [
    {
     "name": "stdout",
     "output_type": "stream",
     "text": [
      "\u001b[34m.\u001b[m\u001b[m               \u001b[34m..\u001b[m\u001b[m              01-basics.ipynb\n"
     ]
    }
   ],
   "source": [
    "!ls -a # -a shows hidden files"
   ]
  },
  {
   "cell_type": "markdown",
   "metadata": {},
   "source": [
    "> `.` and `..` are special folders, `.` represents the current directory and `..` represents the parent directory.\n",
    "\n",
    "## cd\n",
    "\n",
    "Stands for change directory"
   ]
  },
  {
   "cell_type": "code",
   "execution_count": 29,
   "metadata": {
    "vscode": {
     "languageId": "shellscript"
    }
   },
   "outputs": [
    {
     "name": "stdout",
     "output_type": "stream",
     "text": [
      "LICENSE   README.md \u001b[34mlinux\u001b[m\u001b[m\n"
     ]
    }
   ],
   "source": [
    "!cd .. && ls"
   ]
  },
  {
   "cell_type": "markdown",
   "metadata": {},
   "source": [
    "> `&&` will chain expressions on success synchronously, there is also `||` and `&`:  \n",
    "`||` will chain expressions on failure of the previous one.  \n",
    "`&` will background the expression before it and allow you to run tasks in parallel.\n",
    "\n",
    "There are also ways of connecting streams between commands, but we will discuss that later."
   ]
  },
  {
   "cell_type": "code",
   "execution_count": 30,
   "metadata": {
    "vscode": {
     "languageId": "shellscript"
    }
   },
   "outputs": [
    {
     "name": "stdout",
     "output_type": "stream",
     "text": [
      "one\n",
      "\n",
      "two\n",
      "\n",
      "one\n",
      "two\n",
      "three\n"
     ]
    }
   ],
   "source": [
    "!true && echo \"one\" || echo \"two\"\n",
    "\n",
    "!echo\n",
    "\n",
    "!false && echo \"one\" || echo \"two\"\n",
    "\n",
    "!echo\n",
    "\n",
    "!echo \"one\" & echo \"two\" & echo \"three\" # Execute this block several times, and you will probably notice that these appear out of order every so often"
   ]
  },
  {
   "cell_type": "markdown",
   "metadata": {},
   "source": [
    "> `true` and `false` evaluate to success and failure expressions  \n",
    "One thing to note is that in the shell, an exit code of 0 represents success, anything else, failure.\n",
    "\n",
    "## pwd\n",
    "\n",
    "Get the present working directory"
   ]
  },
  {
   "cell_type": "code",
   "execution_count": 31,
   "metadata": {
    "vscode": {
     "languageId": "shellscript"
    }
   },
   "outputs": [
    {
     "name": "stdout",
     "output_type": "stream",
     "text": [
      "/Users/chant\n"
     ]
    }
   ],
   "source": [
    "!cd && pwd"
   ]
  },
  {
   "cell_type": "markdown",
   "metadata": {},
   "source": [
    "> Running cd without any arguments should take you to your `$HOME` directory.  \n",
    "We will cover more common environment variables later."
   ]
  },
  {
   "cell_type": "code",
   "execution_count": 24,
   "metadata": {
    "vscode": {
     "languageId": "shellscript"
    }
   },
   "outputs": [
    {
     "name": "stdout",
     "output_type": "stream",
     "text": [
      "/Users/chant\n"
     ]
    }
   ],
   "source": [
    "!echo $HOME"
   ]
  },
  {
   "cell_type": "markdown",
   "metadata": {},
   "source": [
    "## grep\n",
    "\n",
    "grep stands for `global regular expression search and print`, think of it as a tool for search and filtering"
   ]
  },
  {
   "cell_type": "code",
   "execution_count": 33,
   "metadata": {
    "vscode": {
     "languageId": "shellscript"
    }
   },
   "outputs": [
    {
     "name": "stdout",
     "output_type": "stream",
     "text": [
      "one\n",
      "two\n"
     ]
    }
   ],
   "source": [
    "!{echo one; echo two; echo three;} | grep o"
   ]
  },
  {
   "cell_type": "markdown",
   "metadata": {},
   "source": [
    "Lots going on here! let's break it down\n",
    "\n",
    "`{}` a group of expressions\n",
    "`|` a pipe, this takes the stdout of the group and passes it all to stdin of the grep command\n",
    "\n",
    "`o` is contained in `one` and `two`, hence the results.\n",
    "\n",
    "Another similar piece of syntax is `()` which runs a sub-shell (a separate environment) based off the current environment.\n",
    "The sub-shell can access environment variables from the current environment, but written environment variables only persist inside the sub-shell.\n",
    "\n",
    "## rm / mkdir / touch\n",
    "\n",
    "rm - remove a filesystem object  \n",
    "mkdir - make a directory  \n",
    "touch - create a file"
   ]
  },
  {
   "cell_type": "code",
   "execution_count": 35,
   "metadata": {
    "vscode": {
     "languageId": "shellscript"
    }
   },
   "outputs": [
    {
     "name": "stdout",
     "output_type": "stream",
     "text": [
      "hello\n"
     ]
    }
   ],
   "source": [
    "!rm -rf temp/ && mkdir temp/ && touch temp/hello && ls temp"
   ]
  },
  {
   "cell_type": "markdown",
   "metadata": {},
   "source": [
    "> rm -r signals to recursively delete any nested objects (required to delete directories)  \n",
    "-f is to force deletion (no confirmation required)\n",
    "\n",
    "## sed\n",
    "\n",
    "The stream editor"
   ]
  },
  {
   "cell_type": "code",
   "execution_count": 40,
   "metadata": {
    "vscode": {
     "languageId": "shellscript"
    }
   },
   "outputs": [
    {
     "name": "stdout",
     "output_type": "stream",
     "text": [
      "goodbye\n"
     ]
    }
   ],
   "source": [
    "!echo \"hello\" | sed 's/hello/goodbye/'"
   ]
  },
  {
   "cell_type": "markdown",
   "metadata": {},
   "source": [
    "##"
   ]
  },
  {
   "cell_type": "markdown",
   "metadata": {},
   "source": [
    "Let's break it down...\n",
    "\n",
    "we pass the stream of characters `hello\\n` to sed.\n",
    "\n",
    "`s/hello/goodbye/` is an expression:  \n",
    "`s` stands for the substitute command (replace text).  \n",
    "The new character following it (`/`) is the delimiter used to break up the expression.  \n",
    "Typically this is `/` but you can use a different character if `/` is going to be used in part of the expression.  \n",
    "e.g. `|` is a common fallback option when dealing with filenames and urls.  \n",
    "\n",
    "`hello` is the string we want to match, this supports regex.  \n",
    "`goodbye` is the string we want to replace it with.  \n",
    "\n",
    "If you want to match multiple occurences (a.k.a. globally), append g to the expression: `s/hello/goodbye/g`\n",
    "\n",
    "sed is a very complex tool, there is so much more you can do with it, but just knowing the substitute command is enough for most people.\n"
   ]
  },
  {
   "cell_type": "code",
   "execution_count": null,
   "metadata": {
    "vscode": {
     "languageId": "shellscript"
    }
   },
   "outputs": [],
   "source": []
  }
 ],
 "metadata": {
  "kernelspec": {
   "display_name": "Python 3",
   "language": "python",
   "name": "python3"
  },
  "language_info": {
   "codemirror_mode": {
    "name": "ipython",
    "version": 3
   },
   "file_extension": ".py",
   "mimetype": "text/x-python",
   "name": "python",
   "nbconvert_exporter": "python",
   "pygments_lexer": "ipython3",
   "version": "3.12.6"
  }
 },
 "nbformat": 4,
 "nbformat_minor": 2
}
